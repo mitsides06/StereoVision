{
  "cells": [
    {
      "cell_type": "code",
      "execution_count": null,
      "metadata": {
        "colab": {
          "base_uri": "https://localhost:8080/"
        },
        "id": "4-kBFbV3mDDX",
        "outputId": "75957416-26e7-4396-eac1-df2cf21bdec6"
      },
      "outputs": [
        {
          "name": "stdout",
          "output_type": "stream",
          "text": [
            "Requirement already satisfied: opencv-python in /usr/local/lib/python3.10/dist-packages (4.8.0.76)\n",
            "Requirement already satisfied: numpy>=1.21.2 in /usr/local/lib/python3.10/dist-packages (from opencv-python) (1.23.5)\n"
          ]
        }
      ],
      "source": [
        "pip install opencv-python"
      ]
    },
    {
      "cell_type": "code",
      "execution_count": null,
      "metadata": {
        "id": "DeB8kpyWFT9m"
      },
      "outputs": [],
      "source": [
        "import numpy as np"
      ]
    },
    {
      "cell_type": "code",
      "execution_count": null,
      "metadata": {
        "id": "m5u4PyIsm6mP"
      },
      "outputs": [],
      "source": [
        "import cv2\n",
        "from IPython.display import Image, display"
      ]
    },
    {
      "cell_type": "code",
      "execution_count": null,
      "metadata": {
        "id": "VrSAX7CLnIQe"
      },
      "outputs": [],
      "source": [
        "# Load the images\n",
        "\n",
        "frame_1 = cv2.imread(\"Frame1.png\")\n",
        "frame_2 = cv2.imread(\"Frame2.png\")"
      ]
    },
    {
      "cell_type": "code",
      "execution_count": null,
      "metadata": {
        "id": "y3vn3tOBon35"
      },
      "outputs": [],
      "source": [
        "# Convert the images to grayscale as SIFT works on grayscale images\n",
        "frame_1_gray = cv2.cvtColor(frame_1, cv2.COLOR_BGR2GRAY)\n",
        "frame_2_gray = cv2.cvtColor(frame_2, cv2.COLOR_BGR2GRAY)"
      ]
    },
    {
      "cell_type": "code",
      "execution_count": null,
      "metadata": {
        "colab": {
          "base_uri": "https://localhost:8080/",
          "height": 70
        },
        "id": "o5NClp-RqqtI",
        "outputId": "c1e14ed5-d06e-42ac-816b-2d9a79a2bfe9"
      },
      "outputs": [
        {
          "data": {
            "application/vnd.google.colaboratory.intrinsic+json": {
              "type": "string"
            },
            "text/plain": [
              "'\\nfor i in range(3,13,2):\\n  frame_gray_test_smoothed = cv2.GaussianBlur(frame_2_gray, (i * 5, i * 5), 0)\\n  sift_test = cv2.SIFT_create()\\n  keypoints, _ = sift_test.detectAndCompute(frame_gray_test_smoothed, None)\\n  test =cv2.drawKeypoints(frame_2, keypoints, outImage=None, color=(0, 255, 255),flags=cv2.DrawMatchesFlags_DRAW_RICH_KEYPOINTS)\\n  cv2.imwrite(f\"test_{i}.jpg\", test)\\n  '"
            ]
          },
          "execution_count": 6,
          "metadata": {},
          "output_type": "execute_result"
        }
      ],
      "source": [
        "\"\"\"\n",
        "for i in range(3,13,2):\n",
        "  frame_gray_test_smoothed = cv2.GaussianBlur(frame_2_gray, (i * 5, i * 5), 0)\n",
        "  sift_test = cv2.SIFT_create()\n",
        "  keypoints, _ = sift_test.detectAndCompute(frame_gray_test_smoothed, None)\n",
        "  test =cv2.drawKeypoints(frame_2, keypoints, outImage=None, color=(0, 255, 255),flags=cv2.DrawMatchesFlags_DRAW_RICH_KEYPOINTS)\n",
        "  cv2.imwrite(f\"test_{i}.jpg\", test)\n",
        "  \"\"\""
      ]
    },
    {
      "cell_type": "code",
      "execution_count": null,
      "metadata": {
        "id": "O4FhM_l34xnY"
      },
      "outputs": [],
      "source": [
        "# Smooth images\n",
        "frame_1_gray_smoothed = cv2.GaussianBlur(frame_1_gray, (35,35), 0)\n",
        "frame_2_gray_smoothed = cv2.GaussianBlur(frame_2_gray, (35,35), 0)"
      ]
    },
    {
      "cell_type": "code",
      "execution_count": null,
      "metadata": {
        "colab": {
          "base_uri": "https://localhost:8080/"
        },
        "id": "GkXIQRWW5c4q",
        "outputId": "5c0c780b-b8cc-459e-fa8c-dc79af060d4c"
      },
      "outputs": [
        {
          "data": {
            "text/plain": [
              "True"
            ]
          },
          "execution_count": 8,
          "metadata": {},
          "output_type": "execute_result"
        }
      ],
      "source": [
        "# Check the blurred images\n",
        "cv2.imwrite(\"frame_1_smoothed.jpg\", frame_1_gray_smoothed)\n",
        "cv2.imwrite(\"frame_2_smoothed.jpg\", frame_2_gray_smoothed)\n",
        "cv2.imwrite(\"frame_1_presmooethed.jpg\", frame_1_gray)"
      ]
    },
    {
      "cell_type": "code",
      "execution_count": null,
      "metadata": {
        "id": "j9Ia_keUqHiH"
      },
      "outputs": [],
      "source": [
        "# Initialize the SIFT detectors\n",
        "\n",
        "sift_1 = cv2.SIFT_create()\n",
        "# sift_1.setGridSpacing(10)\n",
        "sift_2 = cv2.SIFT_create()"
      ]
    },
    {
      "cell_type": "markdown",
      "metadata": {
        "id": "JoUxUB6xPe4b"
      },
      "source": []
    },
    {
      "cell_type": "code",
      "execution_count": null,
      "metadata": {
        "colab": {
          "base_uri": "https://localhost:8080/"
        },
        "id": "V8wGUU9brTfZ",
        "outputId": "32f7b028-57d4-4f94-9e30-3a6345abb947"
      },
      "outputs": [
        {
          "data": {
            "text/plain": [
              "True"
            ]
          },
          "execution_count": 8,
          "metadata": {},
          "output_type": "execute_result"
        }
      ],
      "source": [
        "keypoints_1, descriptors_1 = sift_1.detectAndCompute(frame_1_gray_smoothed, None)\n",
        "keypoints_2, descriptors_2 = sift_2.detectAndCompute(frame_2_gray_smoothed, None)\n",
        "image_1_with_keypoints =cv2.drawKeypoints(frame_1, keypoints_1, outImage=None, color=(0, 255, 255),flags=cv2.DrawMatchesFlags_DRAW_RICH_KEYPOINTS)\n",
        "image_2_with_keypoints =cv2.drawKeypoints(frame_2, keypoints_2, outImage=None, color=(0, 255, 255), flags=cv2.DrawMatchesFlags_DRAW_RICH_KEYPOINTS)\n",
        "cv2.imwrite(\"image_1_with_keypoints.jpg\", image_1_with_keypoints)\n",
        "cv2.imwrite(\"image_2_with_keypoints.jpg\", image_2_with_keypoints)"
      ]
    },
    {
      "cell_type": "code",
      "execution_count": null,
      "metadata": {
        "colab": {
          "base_uri": "https://localhost:8080/"
        },
        "id": "BwMD0bwwxXFK",
        "outputId": "1c6a4ede-b736-4bee-8a8b-da45d7e11562"
      },
      "outputs": [
        {
          "data": {
            "text/plain": [
              "True"
            ]
          },
          "execution_count": 9,
          "metadata": {},
          "output_type": "execute_result"
        }
      ],
      "source": [
        "bf = cv2.BFMatcher()\n",
        "matches = bf.knnMatch(descriptors_1, descriptors_2, k=2)\n",
        "good = []\n",
        "\n",
        "for m, n in matches:\n",
        "  if m.distance < 0.5 * n.distance:\n",
        "    good.append([m])\n",
        "\n",
        "matching_image = cv2.drawMatchesKnn(frame_1, keypoints_1, frame_2, keypoints_2, good, None, flags=2)\n",
        "cv2.imwrite(\"matching_image.png\", matching_image)\n"
      ]
    },
    {
      "cell_type": "code",
      "execution_count": null,
      "metadata": {
        "id": "WWzuKncVNmu_"
      },
      "outputs": [],
      "source": [
        "matches = [i[0] for i in good]\n",
        "matches_sorted = sorted(matches, key = lambda x : x.distance)\n",
        "points_1 = np.zeros((len(matches), 2), dtype=np.float32)\n",
        "points_2 = np.zeros((len(matches), 2), dtype=np.float32)\n",
        "\n",
        "for i, match in enumerate(matches_sorted):\n",
        "  points_1[i,:] = keypoints_1[match.queryIdx].pt\n",
        "  points_2[i,:] = keypoints_2[match.trainIdx].pt\n"
      ]
    },
    {
      "cell_type": "code",
      "execution_count": null,
      "metadata": {
        "colab": {
          "base_uri": "https://localhost:8080/"
        },
        "id": "wnl9Ly0WvBBm",
        "outputId": "f2d08b18-3f0a-4ba6-a595-eaf56da36605"
      },
      "outputs": [
        {
          "data": {
            "text/plain": [
              "array([[-3.29496585e-07,  4.39018701e-05, -9.27508001e-03],\n",
              "       [-4.19662391e-05,  1.75418023e-06, -1.85197823e-03],\n",
              "       [ 8.98740768e-03, -3.23526490e-03,  1.00000000e+00]])"
            ]
          },
          "execution_count": 11,
          "metadata": {},
          "output_type": "execute_result"
        }
      ],
      "source": [
        "F, mask = cv2.findFundamentalMat(points_1, points_2, cv2.FM_8POINT)\n",
        "F\n"
      ]
    },
    {
      "cell_type": "code",
      "execution_count": null,
      "metadata": {
        "colab": {
          "base_uri": "https://localhost:8080/"
        },
        "id": "oxNv9F8sSjH8",
        "outputId": "a328865f-dcec-4802-d207-149e20d6bfab"
      },
      "outputs": [
        {
          "data": {
            "text/plain": [
              "0.07112416439062486"
            ]
          },
          "execution_count": 12,
          "metadata": {},
          "output_type": "execute_result"
        }
      ],
      "source": [
        "x_3d = np.array([points_1[1][0], points_1[1][1], 1])\n",
        "x_3d_ = np.array([points_2[1][0], points_2[1][1], 1])\n",
        "x_3d_ @ F @ x_3d"
      ]
    },
    {
      "cell_type": "code",
      "execution_count": null,
      "metadata": {
        "colab": {
          "base_uri": "https://localhost:8080/"
        },
        "id": "6N6piiOkvhAM",
        "outputId": "55cc30bf-7071-4e00-eb50-1868f2c76f1f"
      },
      "outputs": [
        {
          "data": {
            "text/plain": [
              "array([[ 0.9971792 , -0.00348069,  0.07497863],\n",
              "       [ 0.00362138,  0.99999203, -0.00174044],\n",
              "       [-0.07497205,  0.00200697,  0.99718366]])"
            ]
          },
          "execution_count": 13,
          "metadata": {},
          "output_type": "execute_result"
        }
      ],
      "source": [
        "intrinsic_matrix_1 = np.array([[1.600e+03, 0.000e+00, 9.595e+02],\n",
        "[0.000e+00, 1.600e+03, 5.395e+02],\n",
        "[0.000e+00, 0.000e+00, 1.000e+00]])\n",
        "\n",
        "extrinsic_matrix_1 = np.array([[-6.32422984e-01, -7.74574101e-01, 8.72639567e-03, -2.36433081e+00],\n",
        "[-5.00836670e-01, 4.00276423e-01, -7.67425179e-01, -1.74806440e+00],\n",
        "[ 5.90934694e-01, -4.89707828e-01, -6.41079128e-01, 2.59576015e+01],\n",
        "[ 0., 0., 0., 1.]])\n",
        "\n",
        "intrinsic_matrix_2 = np.array([[1.49333333e+03, 0.00000000e+00, 9.78700000e+02],\n",
        "[0.00000000e+00, 1.49333333e+03, 5.20300000e+02],\n",
        "[0.00000000e+00, 0.00000000e+00, 1.00000000e+00]]\n",
        ")\n",
        "\n",
        "extrinsic_matrix_2 = np.array([[-0.5845883, -0.81050003, -0.03669427, -2.39520617],\n",
        "[-0.5041514, 0.39832053, -0.76627171, -1.79913743],\n",
        "[ 0.6356793, -0.42945388, -0.64146805, 26.26804151],\n",
        "[ 0., 0., 0., 1.]])\n",
        "\n",
        "R_vec = np.array([[ 0.9971792 , -0.00348069, 0.07497863],\n",
        "[ 0.00362138, 0.99999203, -0.00174044],\n",
        "[-0.07497205, 0.00200697, 0.99718366]]\n",
        ")\n",
        "\n",
        "T_vec = np.array( [-1.98989457, 0.00265269, 0.20979508])\n",
        "R_vec\n"
      ]
    },
    {
      "cell_type": "code",
      "execution_count": null,
      "metadata": {
        "colab": {
          "base_uri": "https://localhost:8080/"
        },
        "id": "XKMkMQ0wSZYl",
        "outputId": "95ec0175-773c-4c95-c155-aa990aa5ff56"
      },
      "outputs": [
        {
          "data": {
            "text/plain": [
              "array([[ 7.64315161e-09,  1.67264739e-06, -9.48129529e-04],\n",
              "       [-4.78516067e-07, -2.60194129e-08, -2.50407946e-02],\n",
              "       [ 3.58785894e-04,  2.20686928e-02,  1.00000000e+00]])"
            ]
          },
          "execution_count": 14,
          "metadata": {},
          "output_type": "execute_result"
        }
      ],
      "source": [
        "skew = intrinsic_matrix_2 @ T_vec\n",
        "skew = np.array([[0, -skew[-1], skew[1]], [skew[-1], 0, -skew[0]], [-skew[1], skew[0], 0]])\n",
        "intrinsic_matrix_1_inv = np.linalg.inv(intrinsic_matrix_1)\n",
        "F_other = skew @ intrinsic_matrix_2 @ R_vec @ intrinsic_matrix_1_inv\n",
        "acc_matrix = F_other / F_other[2][2]\n",
        "acc_matrix\n"
      ]
    },
    {
      "cell_type": "code",
      "execution_count": null,
      "metadata": {
        "colab": {
          "base_uri": "https://localhost:8080/"
        },
        "id": "7sA7cfIiThMR",
        "outputId": "8ef4c3e7-2b35-4e23-89a5-eafce92796bb"
      },
      "outputs": [
        {
          "data": {
            "text/plain": [
              "-0.024798437432918874"
            ]
          },
          "execution_count": 23,
          "metadata": {},
          "output_type": "execute_result"
        }
      ],
      "source": [
        "x_3d = np.array([points_1[7][0], points_1[7][1], 1])\n",
        "x_3d_ = np.array([points_2[7][0], points_2[7][1], 1])\n",
        "x_3d_ @ acc_matrix @ x_3d"
      ]
    },
    {
      "cell_type": "code",
      "execution_count": null,
      "metadata": {
        "colab": {
          "base_uri": "https://localhost:8080/"
        },
        "id": "QbNJgWnQRJVm",
        "outputId": "4901847e-3701-40e1-abe4-8bb4756caa77"
      },
      "outputs": [
        {
          "name": "stdout",
          "output_type": "stream",
          "text": [
            "57\n",
            "\n",
            "28\n"
          ]
        },
        {
          "data": {
            "text/plain": [
              "True"
            ]
          },
          "execution_count": 29,
          "metadata": {},
          "output_type": "execute_result"
        }
      ],
      "source": [
        "# here I will try do 3 (d)\n",
        "\n",
        "threshold = 0.06\n",
        "\n",
        "new_points_1 = []\n",
        "new_points_2 = []\n",
        "new_matches = []\n",
        "print(len(points_1))\n",
        "print()\n",
        "\n",
        "for i in range(len(points_1)):\n",
        "  x_3d = np.array([points_1[i][0], points_1[i][1], 1])\n",
        "  x_3d_ = np.array([points_2[i][0], points_2[i][1], 1])\n",
        "  result = x_3d_ @ acc_matrix @ x_3d\n",
        "  if abs(result) < threshold:\n",
        "    new_points_1.append(points_1[i])\n",
        "    new_points_2.append(points_2[i])\n",
        "    new_matches.append(matches_sorted[i])\n",
        "print(len(new_points_1))\n",
        "\n",
        "new_matches = [[i] for i in new_matches]\n",
        "matching_image_corrected = cv2.drawMatchesKnn(frame_1, keypoints_1, frame_2, keypoints_2, new_matches, None, flags=2)\n",
        "cv2.imwrite(\"matching_image_corrected.png\", matching_image_corrected)\n",
        "\n",
        "\n"
      ]
    },
    {
      "cell_type": "code",
      "execution_count": null,
      "metadata": {
        "colab": {
          "base_uri": "https://localhost:8080/"
        },
        "id": "cdTzLBcdYesF",
        "outputId": "55515711-0089-4cfb-d599-e12ce3fd437e"
      },
      "outputs": [
        {
          "name": "stdout",
          "output_type": "stream",
          "text": [
            "57\n",
            "\n",
            "8\n"
          ]
        }
      ],
      "source": [
        "threshold = 0.08\n",
        "\n",
        "new_points_1 = []\n",
        "new_points_2 = []\n",
        "new_matches = []\n",
        "print(len(points_1))\n",
        "print()\n",
        "\n",
        "for i in range(len(points_1)):\n",
        "  x_3d = np.array([points_1[i][0], points_1[i][1], 1])\n",
        "  x_3d_ = np.array([points_2[i][0], points_2[i][1], 1])\n",
        "  result = x_3d_ @ F @ x_3d\n",
        "  if abs(result) < threshold:\n",
        "    new_points_1.append(points_1[i])\n",
        "    new_points_2.append(points_2[i])\n",
        "    new_matches.append(matches_sorted[i])\n",
        "print(len(new_points_1))"
      ]
    },
    {
      "cell_type": "code",
      "execution_count": null,
      "metadata": {
        "colab": {
          "base_uri": "https://localhost:8080/",
          "height": 366
        },
        "id": "wi2ffrhN_5bZ",
        "outputId": "e05c5062-8957-455c-dc02-259563f3dff2"
      },
      "outputs": [
        {
          "ename": "TypeError",
          "evalue": "ignored",
          "output_type": "error",
          "traceback": [
            "\u001b[0;31m---------------------------------------------------------------------------\u001b[0m",
            "\u001b[0;31mTypeError\u001b[0m                                 Traceback (most recent call last)",
            "\u001b[0;32m<ipython-input-20-fdc8f0624667>\u001b[0m in \u001b[0;36m<cell line: 1>\u001b[0;34m()\u001b[0m\n\u001b[0;32m----> 1\u001b[0;31m \u001b[0mmatches\u001b[0m \u001b[0;34m=\u001b[0m \u001b[0;34m[\u001b[0m\u001b[0mi\u001b[0m\u001b[0;34m[\u001b[0m\u001b[0;36m0\u001b[0m\u001b[0;34m]\u001b[0m \u001b[0;32mfor\u001b[0m \u001b[0mi\u001b[0m \u001b[0;32min\u001b[0m \u001b[0mnew_matches\u001b[0m\u001b[0;34m]\u001b[0m\u001b[0;34m\u001b[0m\u001b[0;34m\u001b[0m\u001b[0m\n\u001b[0m\u001b[1;32m      2\u001b[0m \u001b[0mmatches_sorted\u001b[0m \u001b[0;34m=\u001b[0m \u001b[0msorted\u001b[0m\u001b[0;34m(\u001b[0m\u001b[0mmatches\u001b[0m\u001b[0;34m,\u001b[0m \u001b[0mkey\u001b[0m \u001b[0;34m=\u001b[0m \u001b[0;32mlambda\u001b[0m \u001b[0mx\u001b[0m \u001b[0;34m:\u001b[0m \u001b[0mx\u001b[0m\u001b[0;34m.\u001b[0m\u001b[0mdistance\u001b[0m\u001b[0;34m)\u001b[0m\u001b[0;34m\u001b[0m\u001b[0;34m\u001b[0m\u001b[0m\n\u001b[1;32m      3\u001b[0m \u001b[0mpoints_1\u001b[0m \u001b[0;34m=\u001b[0m \u001b[0mnp\u001b[0m\u001b[0;34m.\u001b[0m\u001b[0mzeros\u001b[0m\u001b[0;34m(\u001b[0m\u001b[0;34m(\u001b[0m\u001b[0mlen\u001b[0m\u001b[0;34m(\u001b[0m\u001b[0mmatches\u001b[0m\u001b[0;34m)\u001b[0m\u001b[0;34m,\u001b[0m \u001b[0;36m2\u001b[0m\u001b[0;34m)\u001b[0m\u001b[0;34m,\u001b[0m \u001b[0mdtype\u001b[0m\u001b[0;34m=\u001b[0m\u001b[0mnp\u001b[0m\u001b[0;34m.\u001b[0m\u001b[0mfloat32\u001b[0m\u001b[0;34m)\u001b[0m\u001b[0;34m\u001b[0m\u001b[0;34m\u001b[0m\u001b[0m\n\u001b[1;32m      4\u001b[0m \u001b[0mpoints_2\u001b[0m \u001b[0;34m=\u001b[0m \u001b[0mnp\u001b[0m\u001b[0;34m.\u001b[0m\u001b[0mzeros\u001b[0m\u001b[0;34m(\u001b[0m\u001b[0;34m(\u001b[0m\u001b[0mlen\u001b[0m\u001b[0;34m(\u001b[0m\u001b[0mmatches\u001b[0m\u001b[0;34m)\u001b[0m\u001b[0;34m,\u001b[0m \u001b[0;36m2\u001b[0m\u001b[0;34m)\u001b[0m\u001b[0;34m,\u001b[0m \u001b[0mdtype\u001b[0m\u001b[0;34m=\u001b[0m\u001b[0mnp\u001b[0m\u001b[0;34m.\u001b[0m\u001b[0mfloat32\u001b[0m\u001b[0;34m)\u001b[0m\u001b[0;34m\u001b[0m\u001b[0;34m\u001b[0m\u001b[0m\n\u001b[1;32m      5\u001b[0m \u001b[0;34m\u001b[0m\u001b[0m\n",
            "\u001b[0;32m<ipython-input-20-fdc8f0624667>\u001b[0m in \u001b[0;36m<listcomp>\u001b[0;34m(.0)\u001b[0m\n\u001b[0;32m----> 1\u001b[0;31m \u001b[0mmatches\u001b[0m \u001b[0;34m=\u001b[0m \u001b[0;34m[\u001b[0m\u001b[0mi\u001b[0m\u001b[0;34m[\u001b[0m\u001b[0;36m0\u001b[0m\u001b[0;34m]\u001b[0m \u001b[0;32mfor\u001b[0m \u001b[0mi\u001b[0m \u001b[0;32min\u001b[0m \u001b[0mnew_matches\u001b[0m\u001b[0;34m]\u001b[0m\u001b[0;34m\u001b[0m\u001b[0;34m\u001b[0m\u001b[0m\n\u001b[0m\u001b[1;32m      2\u001b[0m \u001b[0mmatches_sorted\u001b[0m \u001b[0;34m=\u001b[0m \u001b[0msorted\u001b[0m\u001b[0;34m(\u001b[0m\u001b[0mmatches\u001b[0m\u001b[0;34m,\u001b[0m \u001b[0mkey\u001b[0m \u001b[0;34m=\u001b[0m \u001b[0;32mlambda\u001b[0m \u001b[0mx\u001b[0m \u001b[0;34m:\u001b[0m \u001b[0mx\u001b[0m\u001b[0;34m.\u001b[0m\u001b[0mdistance\u001b[0m\u001b[0;34m)\u001b[0m\u001b[0;34m\u001b[0m\u001b[0;34m\u001b[0m\u001b[0m\n\u001b[1;32m      3\u001b[0m \u001b[0mpoints_1\u001b[0m \u001b[0;34m=\u001b[0m \u001b[0mnp\u001b[0m\u001b[0;34m.\u001b[0m\u001b[0mzeros\u001b[0m\u001b[0;34m(\u001b[0m\u001b[0;34m(\u001b[0m\u001b[0mlen\u001b[0m\u001b[0;34m(\u001b[0m\u001b[0mmatches\u001b[0m\u001b[0;34m)\u001b[0m\u001b[0;34m,\u001b[0m \u001b[0;36m2\u001b[0m\u001b[0;34m)\u001b[0m\u001b[0;34m,\u001b[0m \u001b[0mdtype\u001b[0m\u001b[0;34m=\u001b[0m\u001b[0mnp\u001b[0m\u001b[0;34m.\u001b[0m\u001b[0mfloat32\u001b[0m\u001b[0;34m)\u001b[0m\u001b[0;34m\u001b[0m\u001b[0;34m\u001b[0m\u001b[0m\n\u001b[1;32m      4\u001b[0m \u001b[0mpoints_2\u001b[0m \u001b[0;34m=\u001b[0m \u001b[0mnp\u001b[0m\u001b[0;34m.\u001b[0m\u001b[0mzeros\u001b[0m\u001b[0;34m(\u001b[0m\u001b[0;34m(\u001b[0m\u001b[0mlen\u001b[0m\u001b[0;34m(\u001b[0m\u001b[0mmatches\u001b[0m\u001b[0;34m)\u001b[0m\u001b[0;34m,\u001b[0m \u001b[0;36m2\u001b[0m\u001b[0;34m)\u001b[0m\u001b[0;34m,\u001b[0m \u001b[0mdtype\u001b[0m\u001b[0;34m=\u001b[0m\u001b[0mnp\u001b[0m\u001b[0;34m.\u001b[0m\u001b[0mfloat32\u001b[0m\u001b[0;34m)\u001b[0m\u001b[0;34m\u001b[0m\u001b[0;34m\u001b[0m\u001b[0m\n\u001b[1;32m      5\u001b[0m \u001b[0;34m\u001b[0m\u001b[0m\n",
            "\u001b[0;31mTypeError\u001b[0m: 'cv2.DMatch' object is not subscriptable"
          ]
        }
      ],
      "source": [
        "matches = [i[0] for i in new_matches]\n",
        "matches_sorted = sorted(matches, key = lambda x : x.distance)\n",
        "points_1 = np.zeros((len(matches), 2), dtype=np.float32)\n",
        "points_2 = np.zeros((len(matches), 2), dtype=np.float32)\n",
        "\n",
        "for i, match in enumerate(matches_sorted):\n",
        "  points_1[i,:] = keypoints_1[match.queryIdx].pt\n",
        "  points_2[i,:] = keypoints_2[match.trainIdx].pt"
      ]
    },
    {
      "cell_type": "code",
      "execution_count": null,
      "metadata": {
        "id": "16okMe2p_-By"
      },
      "outputs": [],
      "source": [
        "H, _ = cv2.findHomography(points_1, points_2, cv2.RANSAC)\n",
        "rectified_image = cv2.warpPerspective(frame_1, H, (frame_2.shape[1], frame_2.shape[0]))\n",
        "combined_image = np.concatenate((rectified_image, frame_2), axis=1)\n",
        "cv2.imwrite(\"rectified.png\", rectified_image)\n",
        "cv2.imwrite(\"combined.png\", combined_image)\n",
        "points_1 = np.array(points_1, dtype=np.float32).reshape(-1, 1, 2)\n",
        "points_rectified = cv2.perspectiveTransform(points_1, H)\n",
        "points_2 = np.array(points_2, dtype=np.float32).reshape(-1, 1, 2)\n",
        "new = cv2.circle(rectified_image, tuple([int(i) for i in points_rectified[0][0]]), 5, (0,255,0),-1)\n",
        "new_2 = cv2.circle(frame_2, tuple([int(i) for i in points_2[0][0]]), 5, (0,255,0),-1)\n",
        "cv2.imwrite(\"new.png\", new)\n",
        "cv2.imwrite(\"new_2.png\", new_2)\n",
        "la = cv2.line(frame_2, tuple([int(i) for i in points_2[0][0]]), rectified_image, tuple([int(i) for i in points_rectified[0][0]]), (0, 255, 0), 2)\n",
        "cv2.imwrite(\"la.png\", la)"
      ]
    },
    {
      "cell_type": "code",
      "execution_count": null,
      "metadata": {
        "id": "52Daqy-f0wHP"
      },
      "outputs": [],
      "source": [
        "#disparity map\n",
        "\n",
        "stereo = cv2.StereoBM_create(numDisparities = 64)\n",
        "disparity = stereo.compute(frame_1_gray, frame_2_gray)\n",
        "cv2.imwrite(\"disparity.png\", disparity)"
      ]
    },
    {
      "cell_type": "code",
      "execution_count": null,
      "metadata": {
        "id": "vwd3EvV441tY"
      },
      "outputs": [],
      "source": [
        "edges = cv2.Canny(frame_1_gray, 50, 300)\n",
        "cv2.imwrite(\"edges.png\", edges)\n",
        "frame_1.shape"
      ]
    },
    {
      "cell_type": "code",
      "execution_count": null,
      "metadata": {
        "id": "VCs3PP8Z564i"
      },
      "outputs": [],
      "source": [
        "_, thresh = cv2.threshold(frame_2_gray, 50, 150, cv2.THRESH_BINARY)\n",
        "cv2.imwrite(\"thresh.png\",thresh)\n",
        "contours, _ = cv2.findContours(thresh, cv2.RETR_TREE, cv2.CHAIN_APPROX_SIMPLE)\n",
        "contours_img = cv2.drawContours(frame_2, contours, -1, (0,100,0), 2)\n",
        "cv2.imwrite(\"contours.png\",contours_img)"
      ]
    },
    {
      "cell_type": "code",
      "execution_count": null,
      "metadata": {
        "colab": {
          "base_uri": "https://localhost:8080/"
        },
        "id": "t0tN_0QuCfqA",
        "outputId": "e5f483c4-1fe7-41c6-8019-6101f2df8e40"
      },
      "outputs": [
        {
          "name": "stdout",
          "output_type": "stream",
          "text": [
            "[[ 1.00000000e+00  0.00000000e+00  0.00000000e+00 -1.11699886e+03]\n",
            " [ 0.00000000e+00  1.00000000e+00  0.00000000e+00 -5.29627289e+02]\n",
            " [ 0.00000000e+00  0.00000000e+00  0.00000000e+00  1.54666666e+03]\n",
            " [ 0.00000000e+00  0.00000000e+00  4.99768822e-01 -0.00000000e+00]]\n",
            "[[1.54666666e+03 0.00000000e+00 1.11699886e+03 0.00000000e+00]\n",
            " [0.00000000e+00 1.54666666e+03 5.29627289e+02 0.00000000e+00]\n",
            " [0.00000000e+00 0.00000000e+00 1.00000000e+00 0.00000000e+00]]\n",
            "[[ 1.54666666e+03  0.00000000e+00  1.11699886e+03 -3.09476421e+03]\n",
            " [ 0.00000000e+00  1.54666666e+03  5.29627289e+02  0.00000000e+00]\n",
            " [ 0.00000000e+00  0.00000000e+00  1.00000000e+00  0.00000000e+00]]\n"
          ]
        }
      ],
      "source": [
        "import cv2\n",
        "import numpy as np\n",
        "\n",
        "# Load the stereo images (left and right frames)\n",
        "\n",
        "\n",
        "# Define the calibration matrices for both cameras (K1, K2), and their distortion coefficients (D1, D2).\n",
        "K1 = intrinsic_matrix_1\n",
        "K2 = intrinsic_matrix_2\n",
        "D1 = np.array([0, 0, 0, 0])\n",
        "D2 = np.array([0, 0, 0, 0])\n",
        "# Also, specify the relativeblob:https://colab.research.google.com/2b69f238-7237-48db-8d10-e7ddc38a813f transformation between the cameras (R, T).\n",
        "R = R_vec\n",
        "T = T_vec\n",
        "# Ensure that these matrices have been correctly obtained during camera calibration.\n",
        "\n",
        "# Rectify the images\n",
        "flags = 0\n",
        "alpha = 0  # Set alpha to 0 for no extra pixels in the rectified images (only valid pixels)\n",
        "\n",
        "# Rectify the images using cv2.stereoRectify and cv2.initUndistortRectifyMap\n",
        "image_width =  1920\n",
        "image_height = 1080\n",
        "R1, R2, P1, P2, Q, _, _ = cv2.stereoRectify(K1, D1, K2, D2, (image_width, image_height), R, T, flags, alpha, (0, 0))\n",
        "map1x, map1y = cv2.initUndistortRectifyMap(K1, D1, R1, P1, (image_width, image_height), cv2.CV_32F)\n",
        "map2x, map2y = cv2.initUndistortRectifyMap(K2, D2, R2, P2, (image_width, image_height), cv2.CV_32F)\n",
        "\n",
        "# Remap the images to rectify them\n",
        "rectified_left = cv2.remap(frame_1_gray, map1x, map1y, interpolation=cv2.INTER_LINEAR)\n",
        "rectified_right = cv2.remap(frame_2_gray, map2x, map2y, interpolation=cv2.INTER_LINEAR)\n",
        "cv2.imwrite(\"rectified_left.png\",rectified_left)\n",
        "cv2.imwrite(\"rectified_right.png\",rectified_right)\n",
        "\n",
        "#check_point = cv2.circle(rectified_right, (375, 630), color=(0,0,255), radius=10)\n",
        "check_point = cv2.circle(rectified_right, (374, 630), color=(0,0,255), radius=5)\n",
        "cv2.imwrite(\"check_point.png\",check_point)\n",
        "\n",
        "#check_point_left = cv2.circle(rectified_left, (525, 630), color=(0,0,255), radius=10)\n",
        "check_point_left = cv2.circle(rectified_left, (522, 630), color=(0,0,255), radius=5)\n",
        "cv2.imwrite(\"check_point_left.png\",check_point_left)\n",
        "\n",
        "#check_point_2 = cv2.circle(rectified_right, (610, 525), color=(0,0,255), radius=10)\n",
        "check_point_2 = cv2.circle(rectified_right, (614, 526), color=(0,0,255), radius=5)\n",
        "cv2.imwrite(\"check_point_2.png\",check_point_2)\n",
        "\n",
        "#check_point_left_2 = cv2.circle(rectified_left, (755, 525), color=(0,0,255), radius=10)\n",
        "check_point_left_2 = cv2.circle(rectified_left, (752, 526), color=(0,0,255), radius=5)\n",
        "cv2.imwrite(\"check_point_left_2.png\",check_point_left_2)\n",
        "\n",
        "#check_point_3 = cv2.circle(rectified_right, (1025, 970), color=(0,0,255), radius=10)\n",
        "check_point_3 = cv2.circle(rectified_right, (1027, 975), color=(0,0,255), radius=5)\n",
        "cv2.imwrite(\"check_point_3.png\",check_point_3)\n",
        "\n",
        "#check_point_left_3 = cv2.circle(rectified_left, (1210, 970), color=(0,0,255), radius=10)\n",
        "check_point_left_3 = cv2.circle(rectified_left, (1210, 975), color=(0,0,255), radius=5)\n",
        "cv2.imwrite(\"check_point_left_3.png\",check_point_left_3)\n",
        "\n",
        "#check_point_4 = cv2.circle(rectified_right, (1632, 343), color=(0,0,255), radius=10)\n",
        "check_point_4 = cv2.circle(rectified_right, (1651, 263), color=(0,0,255), radius=5)\n",
        "cv2.imwrite(\"check_point_4.png\",check_point_4)\n",
        "\n",
        "#check_point_left_4 = cv2.circle(rectified_left, (1743, 343), color=(0,0,255), radius=10)\n",
        "check_point_left_4 = cv2.circle(rectified_left, (1763, 263), color=(0,0,255), radius=5)\n",
        "\n",
        "cv2.imwrite(\"check_point_left_4.png\",check_point_left_4)\n",
        "\n",
        "#check_point_5 = cv2.circle(rectified_right, (973, 715), color=(0,0,255), radius=10)\n",
        "check_point_5 = cv2.circle(rectified_right, (969, 625), color=(0,0,255), radius=5)\n",
        "cv2.imwrite(\"check_point_5.png\",check_point_5)\n",
        "\n",
        "#check_point_left_5 = cv2.circle(rectified_left, (1120, 715), color=(0,0,255), radius=10)\n",
        "check_point_left_5 = cv2.circle(rectified_left, (1124, 625), color=(0,0,255), radius=5)\n",
        "cv2.imwrite(\"check_point_left_5.png\",check_point_left_5)\n",
        "\n",
        "combined_image = np.concatenate((rectified_left, rectified_right), axis=1)\n",
        "#check_combined = cv2.line(combined_image, (0, 700), (4000, 700), color=(0,0,255))\n",
        "#cv2.imwrite(\"check_combined.png\",check_combined)\n",
        "cv2.imwrite(\"combined_image.png\",combined_image)\n",
        "\n",
        "stereo = cv2.StereoBM_create(numDisparities=96, blockSize=15)\n",
        "disparity = stereo.compute(rectified_left, rectified_right)\n",
        "cv2.imwrite(\"disparity.png\",disparity)\n",
        "focal_length_av = (intrinsic_matrix_1[0,0] + intrinsic_matrix_2[0,0]) / 2\n",
        "disparity = abs(disparity)\n",
        "\n",
        "print(Q)\n",
        "points_3d = cv2.reprojectImageTo3D(disparity, Q)\n",
        "\n",
        "# Calculate the disparity map using StereoSGBM or another stereo matching algorithm\n",
        "# You need to specify the disparity range and matching parameters appropriately\n",
        "\"\"\"\n",
        "window_size = 5\n",
        "min_disp = 0\n",
        "num_disp = 128\n",
        "\n",
        "stereo = cv2.StereoSGBM_create(\n",
        "    minDisparity=min_disp,\n",
        "    numDisparities=num_disp,\n",
        "    blockSize=window_size,\n",
        "    P1=8 * 3 * window_size ** 2,\n",
        "    P2=32 * 3 * window_size ** 2,\n",
        ")\n",
        "\n",
        "disparity = stereo.compute(rectified_left, rectified_right)\n",
        "baseline = np.linalg.norm(T)\n",
        "\n",
        "# Convert the disparity map to depth using the calibration parameters\n",
        "focal_length = P1[0, 0]  # Focal length from the rectified camera matrix P1\n",
        "\n",
        "depth_map = (focal_length * baseline) / (disparity + 1e-6)\n",
        "\n",
        "cv2.imwrite(\"depth_map.png\",depth_map)\n",
        "# At this point, you can continue with the segmentation and pool area estimation steps as previously described.\n",
        "\"\"\"\n",
        "\n",
        "print(P1)\n",
        "print(P2)"
      ]
    },
    {
      "cell_type": "code",
      "execution_count": null,
      "metadata": {
        "colab": {
          "base_uri": "https://localhost:8080/"
        },
        "id": "ad4VIl1RilKu",
        "outputId": "eb5d6c12-f304-463a-d037-4299a54a2509"
      },
      "outputs": [
        {
          "name": "stdout",
          "output_type": "stream",
          "text": [
            "Area: 28.677296246571846\n"
          ]
        }
      ],
      "source": [
        "\"\"\"\n",
        "point1 = np.array([7.8932, -1.3383, -20.6213])\n",
        "point2 = np.array([4.9929, 0.06382, -21.3324])\n",
        "point3 = np.array([-1.00542, -4.76078, -16.72])\n",
        "\n",
        "# Calculate the vectors of the sides of the triangle\n",
        "vector1 = point1 - point2\n",
        "vector2 = point3 - point2\n",
        "\n",
        "# Calculate the cross product of the vectors\n",
        "cross_product = np.cross(vector1, vector2)\n",
        "\n",
        "# Calculate the magnitude of the cross product\n",
        "magnitude = np.linalg.norm(cross_product)\n",
        "\n",
        "\n",
        "area = magnitude\n",
        "\n",
        "print('Area:', area)\n",
        "\"\"\""
      ]
    },
    {
      "cell_type": "code",
      "execution_count": null,
      "metadata": {
        "colab": {
          "base_uri": "https://localhost:8080/"
        },
        "id": "zAFXxKNoyCHi",
        "outputId": "8bf73f9b-a625-4e15-c753-a6b8b8a12595"
      },
      "outputs": [
        {
          "name": "stdout",
          "output_type": "stream",
          "text": [
            "Area: 33.41603105832077\n"
          ]
        }
      ],
      "source": [
        "point1 = np.array([8.0404, -1.3567, -20.891])\n",
        "point2 = np.array([5.288, 0.0525, -22.414])\n",
        "point3 = np.array([-1.0164, -4.867, -16.902])\n",
        "\n",
        "# Calculate the vectors of the sides of the triangle\n",
        "vector1 = point1 - point2\n",
        "vector2 = point3 - point2\n",
        "\n",
        "# Calculate the cross product of the vectors\n",
        "cross_product = np.cross(vector1, vector2)\n",
        "\n",
        "# Calculate the magnitude of the cross product\n",
        "magnitude = np.linalg.norm(cross_product)\n",
        "\n",
        "\n",
        "area = magnitude\n",
        "\n",
        "print('Area:', area)"
      ]
    },
    {
      "cell_type": "code",
      "execution_count": null,
      "metadata": {
        "colab": {
          "base_uri": "https://localhost:8080/"
        },
        "id": "rfuLVydOn5E4",
        "outputId": "ce4012c7-9846-4a6d-87bb-ab13d2688526"
      },
      "outputs": [
        {
          "name": "stdout",
          "output_type": "stream",
          "text": [
            "Distance: 14.405157852620011\n"
          ]
        }
      ],
      "source": [
        "point1 = np.array([-0.0408, -2.5306, -21.04217])\n",
        "point2 = np.array([-11.279, 3.3625, -27.86])\n",
        "\n",
        "# Calculate the Euclidean distance\n",
        "distance = np.linalg.norm(point1 - point2)\n",
        "\n",
        "print('Distance:', distance)"
      ]
    },
    {
      "cell_type": "code",
      "execution_count": null,
      "metadata": {
        "colab": {
          "base_uri": "https://localhost:8080/"
        },
        "id": "Beg8OP3y6EOf",
        "outputId": "4a9a82ea-d170-4f8d-d98b-1a2f80647526"
      },
      "outputs": [
        {
          "name": "stdout",
          "output_type": "stream",
          "text": [
            "Distance: 15.01952473381232\n"
          ]
        }
      ],
      "source": [
        "point1 = np.array([-11.5357, 4.7611, -27.617])\n",
        "point2 = np.array([-0.09034, -1.2306, -19.9561])\n",
        "\n",
        "# Calculate the Euclidean distance\n",
        "distance = np.linalg.norm(point1 - point2)\n",
        "\n",
        "print('Distance:', distance)"
      ]
    }
  ],
  "metadata": {
    "colab": {
      "provenance": []
    },
    "kernelspec": {
      "display_name": "Python 3",
      "name": "python3"
    },
    "language_info": {
      "name": "python"
    }
  },
  "nbformat": 4,
  "nbformat_minor": 0
}
